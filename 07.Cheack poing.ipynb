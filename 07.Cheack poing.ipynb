{
 "cells": [
  {
   "cell_type": "code",
   "execution_count": 43,
   "metadata": {},
   "outputs": [],
   "source": [
    "import pandas as pd\n",
    "import numpy as np"
   ]
  },
  {
   "cell_type": "code",
   "execution_count": 48,
   "metadata": {},
   "outputs": [
    {
     "name": "stdout",
     "output_type": "stream",
     "text": [
      "Brazil\n"
     ]
    }
   ],
   "source": [
    "def Ret_Pregunta07():\n",
    "    df = pd.read_csv(\"datasets\\Fuentes_Consumo_Energia.csv\")\n",
    "    df_2019 = df[df[\"Year\"] == 2019]\n",
    " \n",
    "    paises_de_interes = [\"Argentina\", \"Brazil\", \"Chile\", \"Colombia\", \"Ecuador\", \"Mexico\", \"Peru\"]\n",
    "\n",
    "    datos_paises_interes = df_2019[df_2019[\"Entity\"].isin(paises_de_interes)]\n",
    "\n",
    "    pais_mayor_generacion = datos_paises_interes.loc[datos_paises_interes['Hydro_Generation_TWh'].idxmax()]['Entity']\n",
    "    return pais_mayor_generacion\n",
    "\n",
    "\n",
    "\n",
    "resultado = Ret_Pregunta07()\n",
    "print(resultado)   "
   ]
  },
  {
   "cell_type": "markdown",
   "metadata": {},
   "source": [
    "## OPCION 2"
   ]
  },
  {
   "cell_type": "code",
   "execution_count": 51,
   "metadata": {},
   "outputs": [],
   "source": [
    "def Ret_Pregunta07():\n",
    "    '''\n",
    "    Debes utilizar Pandas para ingestar en un objeto Dataframe el contenido del archivo provisto\n",
    "    \"Fuentes_Consumo_Energia.csv\".\n",
    "    Esta función debe informar cuál de la siguiente lista de países tuvo mayor generacíon de\n",
    "    energía hìdrica (Hydro_Generation_TWh) en el año 2019:\n",
    "        * Argentina\n",
    "        * Brazil\n",
    "        * Chile\n",
    "        * Colombia\n",
    "        * Ecuador\n",
    "        * Mexico\n",
    "        * Peru\n",
    "    Debe retornar el valor en un dato de tipo string.\n",
    "    '''\n",
    "    #Tu código aca:\n",
    "    \n",
    "    df = pd.read_csv(\"datasets\\Fuentes_Consumo_Energia.csv\")\n",
    "\n",
    "    pais = [\"Argentina\",\"Brazil\",\"Chile\",\"Colombia\",\"Ecuador\",\"Mexico\",\"Peru\"]\n",
    "\n",
    "    mask = (df[\"Entity\"].isin(pais)) & (df[\"Year\"] == 2019)\n",
    "    df = df[mask]\n",
    "\n",
    "    indice = df.Hydro_Generation_TWh.idxmax()\n",
    "\n",
    "\n",
    "    return  df[\"Entity\"][indice]"
   ]
  },
  {
   "cell_type": "code",
   "execution_count": 52,
   "metadata": {},
   "outputs": [
    {
     "name": "stdout",
     "output_type": "stream",
     "text": [
      "Brazil\n"
     ]
    }
   ],
   "source": [
    "resultado = Ret_Pregunta07()\n",
    "print(resultado)"
   ]
  }
 ],
 "metadata": {
  "kernelspec": {
   "display_name": "Python 3",
   "language": "python",
   "name": "python3"
  },
  "language_info": {
   "codemirror_mode": {
    "name": "ipython",
    "version": 3
   },
   "file_extension": ".py",
   "mimetype": "text/x-python",
   "name": "python",
   "nbconvert_exporter": "python",
   "pygments_lexer": "ipython3",
   "version": "3.10.11"
  }
 },
 "nbformat": 4,
 "nbformat_minor": 2
}
