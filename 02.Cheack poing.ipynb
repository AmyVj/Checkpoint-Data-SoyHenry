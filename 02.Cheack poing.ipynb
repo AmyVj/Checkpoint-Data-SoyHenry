{
 "cells": [
  {
   "cell_type": "code",
   "execution_count": 8,
   "metadata": {},
   "outputs": [],
   "source": [
    "import pandas as pd\n",
    "import numpy as np"
   ]
  },
  {
   "cell_type": "code",
   "execution_count": 9,
   "metadata": {},
   "outputs": [],
   "source": [
    "def Ret_Pregunta02():\n",
    "    '''\n",
    "    Debes utilizar Pandas para ingestar en un objeto Dataframe el contenido del archivo provisto\n",
    "    \"Fuentes_Consumo_Energia.csv\".\n",
    "    Esta función debe eliminar las columnas 'Code' y 'Entity' y luego informar la cantidad de columnas\n",
    "    retornando ese valor en un dato de tipo entero.\n",
    "    '''\n",
    "    #Tu código aca:"
   ]
  }
 ],
 "metadata": {
  "kernelspec": {
   "display_name": "Python 3",
   "language": "python",
   "name": "python3"
  },
  "language_info": {
   "codemirror_mode": {
    "name": "ipython",
    "version": 3
   },
   "file_extension": ".py",
   "mimetype": "text/x-python",
   "name": "python",
   "nbconvert_exporter": "python",
   "pygments_lexer": "ipython3",
   "version": "3.10.11"
  }
 },
 "nbformat": 4,
 "nbformat_minor": 2
}
