{
 "cells": [
  {
   "cell_type": "code",
   "execution_count": 48,
   "metadata": {},
   "outputs": [],
   "source": [
    "import pandas as pd\n",
    "import numpy as np"
   ]
  },
  {
   "cell_type": "code",
   "execution_count": 49,
   "metadata": {},
   "outputs": [],
   "source": [
    "def Ret_Pregunta09():\n",
    "    '''\n",
    "    Debes utilizar Pandas para ingestar en un objeto Dataframe el contenido del archivo provisto\n",
    "    \"datasets/Tabla1_ejercicio.csv\" y \"datasets/Tabla2_ejercicio.csv\".\n",
    "    Esta función debe informar: score_promedio_femenino y score_promedio_masculino en formato tupla\n",
    "    '''\n",
    "    "
   ]
  },
  {
   "cell_type": "code",
   "execution_count": null,
   "metadata": {},
   "outputs": [],
   "source": []
  },
  {
   "cell_type": "markdown",
   "metadata": {},
   "source": [
    "## OPCION 2\n"
   ]
  },
  {
   "cell_type": "code",
   "execution_count": 21,
   "metadata": {},
   "outputs": [],
   "source": [
    "def Ret_Pregunta09():\n",
    "    '''\n",
    "    Debes utilizar Pandas para ingestar en un objeto Dataframe el contenido del archivo provisto\n",
    "    \"datasets/Tabla1_ejercicio.csv\" y \"datasets/Tabla2_ejercicio.csv\".\n",
    "    Esta función debe informar: score_promedio_femenino y score_promedio_masculino en formato tupla\n",
    "    '''\n",
    "    #Tu código aca:\n",
    "    \n",
    "    df_ejercicio1 = pd.read_csv('./datasets/Tabla1_ejercicio.csv', sep=';')\n",
    "    df_ejercicio2 = pd.read_csv('./datasets/Tabla2_ejercicio.csv', sep=';')\n",
    "    df_final = pd.merge(df_ejercicio1,df_ejercicio2,on=\"pers_id\").drop_duplicates()\n",
    "    \n",
    "    score_promedio_femenino = round(df_final[df_final.sexo==\"F\"].score.mean(),2)\n",
    "    score_promedio_masculino = round(df_final[df_final.sexo==\"M\"].score.mean(),2)\n",
    "    tupla_final = (score_promedio_femenino, score_promedio_masculino)\n",
    "    return tupla_final"
   ]
  },
  {
   "cell_type": "code",
   "execution_count": 22,
   "metadata": {},
   "outputs": [
    {
     "data": {
      "text/plain": [
       "(630.26, 772.28)"
      ]
     },
     "execution_count": 22,
     "metadata": {},
     "output_type": "execute_result"
    }
   ],
   "source": [
    "Ret_Pregunta09()"
   ]
  }
 ],
 "metadata": {
  "kernelspec": {
   "display_name": "Python 3",
   "language": "python",
   "name": "python3"
  },
  "language_info": {
   "codemirror_mode": {
    "name": "ipython",
    "version": 3
   },
   "file_extension": ".py",
   "mimetype": "text/x-python",
   "name": "python",
   "nbconvert_exporter": "python",
   "pygments_lexer": "ipython3",
   "version": "3.10.11"
  }
 },
 "nbformat": 4,
 "nbformat_minor": 2
}
