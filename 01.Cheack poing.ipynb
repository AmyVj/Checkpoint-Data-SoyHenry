{
 "cells": [
  {
   "cell_type": "code",
   "execution_count": 1,
   "metadata": {},
   "outputs": [],
   "source": [
    "import pandas as pd\n",
    "import numpy as np"
   ]
  },
  {
   "cell_type": "code",
   "execution_count": 9,
   "metadata": {},
   "outputs": [],
   "source": [
    "def Ret_Pregunta01():\n",
    "    '''\n",
    "    Debes utilizar Pandas para ingestar en un objeto Dataframe el contenido del archivo provisto\n",
    "    \"Fuentes_Consumo_Energia.csv\".\n",
    "    Esta función debe informar la cantidad de registros cuya entidad sean Colombia o México retornando ese valor en un dato\n",
    "    tupla (Colombia, México).\n",
    "    Pista averiguar la funcion Shape\n",
    "    '''\n",
    "    #Tu código aca:\n",
    "\n",
    "    import pandas as pd\n",
    "\n",
    "\n",
    "df = pd.read_csv(\"datasets\\Fuentes_Consumo_Energia.csv\")\n",
    "\n",
    "\n",
    "filtros = (df['Entity'] == 'Colombia') | (df['Entity'] == 'México')\n",
    "registros_colombia_mexico = df[filtros]\n",
    "\n",
    "# Obtener la cantidad de registros para Colombia y México\n",
    "cantidad_colombia = len(registros_colombia_mexico[registros_colombia_mexico['Entity'] == 'Colombia'])\n",
    "cantidad_mexico = len(registros_colombia_mexico[registros_colombia_mexico['Entity'] == 'México'])\n",
    "\n",
    "\n",
    "\n"
   ]
  },
  {
   "cell_type": "code",
   "execution_count": 10,
   "metadata": {},
   "outputs": [],
   "source": [
    "resultado = (cantidad_colombia, cantidad_mexico)"
   ]
  },
  {
   "cell_type": "code",
   "execution_count": 11,
   "metadata": {},
   "outputs": [
    {
     "name": "stdout",
     "output_type": "stream",
     "text": [
      "(55, 0)\n"
     ]
    }
   ],
   "source": [
    "print(resultado)"
   ]
  }
 ],
 "metadata": {
  "kernelspec": {
   "display_name": "Python 3",
   "language": "python",
   "name": "python3"
  },
  "language_info": {
   "codemirror_mode": {
    "name": "ipython",
    "version": 3
   },
   "file_extension": ".py",
   "mimetype": "text/x-python",
   "name": "python",
   "nbconvert_exporter": "python",
   "pygments_lexer": "ipython3",
   "version": "3.10.11"
  }
 },
 "nbformat": 4,
 "nbformat_minor": 2
}
